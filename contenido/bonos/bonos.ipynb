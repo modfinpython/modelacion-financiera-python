#Importamos Librerías
from abc import abstractmethod
import numpy as np
import numpy as np
import pandas as pd
import math
import matplotlib.pyplot as plt

class Bono:
    def __init__(
        self, 
        valor_nominal,
        tasa_cupon,
        tasa_rendimiento,
        sobre_tasa,
        periodo_cupon,
        dias_vencimiento,
        dias_por_año
    ):
        self.valor_nominal = valor_nominal  # Valor nominal
        self.tasa_cupon = tasa_cupon  # Tasa del cupón
        self.tasa_rendimiento = tasa_rendimiento  # Tasa de interés
        self.sobre_tasa = sobre_tasa #Sobretasa
        self.periodo_cupon = periodo_cupon  # Frecuencia o periodo de cada cupón
        self.dias_vencimiento = dias_vencimiento  # Días hasta el vencimiento
        self.dias_por_año = dias_por_año  # Días por año (360, 365, etc.)
        self.flujos = None  # Se definirá en subclases

    def obtener_cupones(self):
        # Calcular el número total de cupones (puede incluir decimales)
        total_cupones = self.dias_vencimiento / self.periodo_cupon
        cupones_completos = int(total_cupones)
        es_fraccionado = total_cupones > cupones_completos
        fraccion_cupon = total_cupones - cupones_completos if es_fraccionado else 0

        return cupones_completos, es_fraccionado, fraccion_cupon

    def obtener_intereses_devengados(self):
        cupones_completos, es_fraccionado, fraccion_cupon=self.obtener_cupones()
        longitud = cupones_completos + 1 if es_fraccionado else cupones_completos
        intereses_devengados = np.zeros(longitud)
        intereses_devengados[0]=(
            (1-fraccion_cupon)
            * (self.periodo_cupon)
            * self.valor_nominal
            * self.tasa_cupon
            / self.dias_por_año
            if es_fraccionado
            else 0
        )

        return intereses_devengados

    def obtener_factores(self):
        cupones_completos, es_fraccionado, fraccion_cupon=self.obtener_cupones()
        # Determinar la longitud del arreglo potencia
        longitud = cupones_completos + 1 if es_fraccionado else cupones_completos
        factores = np.zeros(longitud)

        # Asignar valores al arreglo potencia
        if es_fraccionado:
            factores[0] = fraccion_cupon
            for i in range(1, longitud):
                factores[i] = factores[i-1] + 1
        else:
            for i in range(longitud):
                factores[i] = i + 1  # Comenzamos en 1 si no hay fracción inicial

        return factores

    def obtener_valores_presentes(self,tasa_rendimiento=None):
        if tasa_rendimiento is None:
            tasa_rendimiento = self.tasa_rendimiento
        if self.flujos is None:
            self.Definir_flujos()  # Asegura que self.flujos esté definido
        factores = self.obtener_factores()
        descuento = (
            1
            + (tasa_rendimiento+self.sobre_tasa)
            * self.periodo_cupon
            / self.dias_por_año
        )** -factores
        valores_presentes = self.flujos * descuento

        return valores_presentes

    def calcular_precio_sucio(self,tasa_rendimiento=None):
        if tasa_rendimiento is None:
            tasa_rendimiento = self.tasa_rendimiento        
        valor_presente_bruto=self.obtener_valores_presentes(tasa_rendimiento=tasa_rendimiento)
        precio_sucio = valor_presente_bruto.sum()

        return precio_sucio

    def calcular_interes_devengado(self):
        intereses_devengados = self.obtener_intereses_devengados()
        interes_devengado = intereses_devengados.sum()

        return interes_devengado

    def calcular_precio_limpio(self):
        precio_sucio = self.calcular_precio_sucio()
        interes_devengado=self.calcular_interes_devengado()
        precio_limpio = precio_sucio-interes_devengado

        return precio_limpio
    
    def calcular_duracion_macaulay(self):
        valor_presente_bruto=self.obtener_valores_presentes()
        factores = self.obtener_factores()
        proporcion = valor_presente_bruto / self.calcular_precio_sucio()
        tiempo_proporcion = proporcion * factores
        duracion_macaulay = (
            tiempo_proporcion.sum()
            * self.periodo_cupon
            / self.dias_por_año
        ) 

        return duracion_macaulay
    
    def calcular_duracion_modificada(self):
        duracion_macaulay=self.calcular_duracion_macaulay()
        duración_modificada = (
            duracion_macaulay
            / (
                1 
                + (self.tasa_rendimiento+self.sobre_tasa)
                * self.periodo_cupon
                / self.dias_por_año
            )
        )
        return duración_modificada

    def calcular_convexidad(self,cambio):
        tasa_original=self.tasa_rendimiento
        precio_mas=self.calcular_precio_sucio(tasa_rendimiento=tasa_original+cambio)
        precio_menos=self.calcular_precio_sucio(tasa_rendimiento=tasa_original-cambio)
        precio_base=self.calcular_precio_sucio()
        convexidad=(
            (
                precio_menos
                +precio_mas
                -(2*precio_base)
            )
            /(
                (cambio**2)
                *precio_base
            )
        )

        return convexidad

    def obtener_calendario_pagos(self):
        factores = self.obtener_factores()
        dias_flujo = factores*self.periodo_cupon
        flujo_efectivo=self.Definir_flujos()
        valor_presente_bruto=self.obtener_valores_presentes()
        interes_devengado=self.obtener_intereses_devengados()
        valor_presente_neto=valor_presente_bruto-interes_devengado

        df = {'Días Flujo': dias_flujo,
                'Flujo': flujo_efectivo,
                'Valor Presente Bruto': valor_presente_bruto,
                'Interés Devengado':interes_devengado,
                'Valor Presente Neto':valor_presente_neto}

        #Convertimos al formato DataFrame con pandas

        calendario_pagos = pd.DataFrame(df)
        calendario_pagos.loc['Total'] = [dias_flujo[-1],flujo_efectivo.sum(),valor_presente_bruto.sum(),interes_devengado.sum(),valor_presente_neto.sum()]
        return calendario_pagos

    def obtener_medidas(self):
        precio_sucio=self.calcular_precio_sucio()
        interes_devengado=self.calcular_interes_devengado()
        precio_limpio=self.calcular_precio_limpio()      
        duracion_macaulay = self.calcular_duracion_macaulay()
        duracion_modificada= self.calcular_duracion_modificada()
        convexidad=self.calcular_convexidad(0.0001)

        datos = {'Concepto': ['Precio Sucio', 'Interés Devengado', 'Precio Limpio', 'Duración Macaulay', 'Duración Modificada','Convexidad'],
                'Dato': [precio_sucio, interes_devengado, precio_limpio, duracion_macaulay, duracion_modificada,convexidad]}

        medidas = pd.DataFrame(datos)
        medidas.set_index('Concepto', inplace=True)

        return medidas

    @abstractmethod
    def definir_flujos(self):
        pass

class CuponCero(Bono):
    def __init__(
        self,
        valor_nominal,
        tasa_cupon,
        tasa_rendimiento,
        sobre_tasa,
        periodo_cupon,
        dias_vencimiento,
        dias_por_año
    ):
        super().__init__(
            valor_nominal,
            tasa_cupon,
            tasa_rendimiento,
            sobre_tasa,
            periodo_cupon,
            dias_vencimiento,
            dias_por_año
        )

    def Definir_flujos(self):
        factores = self.obtener_factores()
        self.flujos = np.zeros(len(factores))
        self.flujos[-1] = self.valor_nominal  # Solo hay un flujo, el valor nominal al final

        return self.flujos

class CuponFijo(Bono):
    def Definir_flujos(self):
        factores = self.obtener_factores()
        cupones = np.full(
            len(factores)-1,
            self.valor_nominal
            *self.tasa_cupon
            *self.periodo_cupon
            /self.dias_por_año
        )
        self.flujos = np.append(
            cupones, [self.valor_nominal + cupones[-1]])  # Añadir el valor nominal al final

        return self.flujos

class CuponVariable(Bono):
    def definir_flujos(self):
        potencia = self.calcular_potencia()
        cupones = np.full(
            len(potencia) - 1,
            self.valor_nominal
            * self.tasa_rendimiento
            * self.periodo_cupon
            / self.dias_por_año,
        )
        cupones[0] = (
            self.valor_nominal
            * self.tasa_cupon
            * self.periodo_cupon
            / self.dias_por_año
        )

        self.flujos = np.append(
            cupones, [self.valor_nominal + cupones[-1]]
        )  # Añadir el valor nominal al final

        return self.flujos

cete = CuponCero(10,0,.1550,0,28,28,360)
bonovariable = CuponFijo(100,0.07,0.08,0,182,1036,360)
bono_cfa_1 = CuponFijo(100,0.08,.1040,0,360,10*360,360)
bono_cfa_2 = CuponFijo(100,0.06,.06,0,180,16*180-57,360)

#Reales
M_BONOS_270304 = CuponFijo(100,.055,0.094,0,182,1105,360)
BI_CETES_240321 = CuponCero(10,0,.1115,0,27,27,360)


medidas=M_BONOS_270304.obtener_medidas()
calendario =M_BONOS_270304.obtener_calendario_pagos()

print("M_BONOS_270304")
display(calendario)
display(medidas)
