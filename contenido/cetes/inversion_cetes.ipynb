{
 "cells": [
  {
   "cell_type": "code",
   "execution_count": 1,
   "metadata": {},
   "outputs": [],
   "source": [
    "# Importar Librerías\n",
    "\n",
    "import math\n",
    "import pandas as pd\n",
    "\n",
    "# Definición y Variables Intermedias\n",
    "\n",
    "\n",
    "def inversion_cetes(tasa_interes, plazo, monto):\n",
    "    valor_nominal = 10\n",
    "    dias_anio = 360\n",
    "    tasa_isr = 0.0148\n",
    "\n",
    "    # Aplicamos la fórmula previamente explicadas (Variables intermedias)\n",
    "    precio_cete = valor_nominal/(1+tasa_interes*plazo/dias_anio)\n",
    "    titulos = math.floor(monto/precio_cete)\n",
    "    valor_inicial = precio_cete*titulos\n",
    "    valor_final = valor_nominal*titulos\n",
    "    interes_bruto = valor_final-valor_inicial\n",
    "    \n",
    "    # Tambien puede calcularse: titulos*(valor_nominal-precio_cete)\n",
    "    isr = tasa_isr*interes_bruto\n",
    "    interes_neto = interes_bruto-isr\n",
    "\n",
    "    # Damos Estructura y orden de los de datos de salida utilizando pandas\n",
    "\n",
    "    datos = {'Concepto': ['Precio', 'Titulos Adquiridos', 'Valor Inicial', 'Valor Final', 'Interés Bruto', 'ISR', 'Interés Neto'],\n",
    "             'Dato': [precio_cete, titulos, valor_inicial, valor_final, interes_bruto, isr, interes_neto]}\n",
    "\n",
    "    df = pd.DataFrame(datos)\n",
    "    df.set_index(['Concepto', 'Dato'], inplace=True)\n",
    "    return df"
   ]
  },
  {
   "cell_type": "code",
   "execution_count": 2,
   "metadata": {},
   "outputs": [
    {
     "data": {
      "text/html": [
       "<div>\n",
       "<style scoped>\n",
       "    .dataframe tbody tr th:only-of-type {\n",
       "        vertical-align: middle;\n",
       "    }\n",
       "\n",
       "    .dataframe tbody tr th {\n",
       "        vertical-align: top;\n",
       "    }\n",
       "\n",
       "    .dataframe thead th {\n",
       "        text-align: right;\n",
       "    }\n",
       "</style>\n",
       "<table border=\"1\" class=\"dataframe\">\n",
       "  <thead>\n",
       "    <tr style=\"text-align: right;\">\n",
       "      <th></th>\n",
       "      <th></th>\n",
       "    </tr>\n",
       "    <tr>\n",
       "      <th>Concepto</th>\n",
       "      <th>Dato</th>\n",
       "    </tr>\n",
       "  </thead>\n",
       "  <tbody>\n",
       "    <tr>\n",
       "      <th>Precio</th>\n",
       "      <th>9.926215</th>\n",
       "    </tr>\n",
       "    <tr>\n",
       "      <th>Titulos Adquiridos</th>\n",
       "      <th>100.000000</th>\n",
       "    </tr>\n",
       "    <tr>\n",
       "      <th>Valor Inicial</th>\n",
       "      <th>992.621500</th>\n",
       "    </tr>\n",
       "    <tr>\n",
       "      <th>Valor Final</th>\n",
       "      <th>1000.000000</th>\n",
       "    </tr>\n",
       "    <tr>\n",
       "      <th>Interés Bruto</th>\n",
       "      <th>7.378500</th>\n",
       "    </tr>\n",
       "    <tr>\n",
       "      <th>ISR</th>\n",
       "      <th>0.109202</th>\n",
       "    </tr>\n",
       "    <tr>\n",
       "      <th>Interés Neto</th>\n",
       "      <th>7.269298</th>\n",
       "    </tr>\n",
       "  </tbody>\n",
       "</table>\n",
       "</div>"
      ],
      "text/plain": [
       "Empty DataFrame\n",
       "Columns: []\n",
       "Index: [(Precio, 9.926215002796347), (Titulos Adquiridos, 100.0), (Valor Inicial, 992.6215002796347), (Valor Final, 1000.0), (Interés Bruto, 7.378499720365312), (ISR, 0.10920179586140662), (Interés Neto, 7.269297924503905)]"
      ]
     },
     "execution_count": 2,
     "metadata": {},
     "output_type": "execute_result"
    }
   ],
   "source": [
    "# Ejercicio 1 \n",
    "tasa = 0.11150020\n",
    "plazo = 24\n",
    "monto = 1000\n",
    "\n",
    "# Llamamos la función \n",
    "inversion_cetes(tasa, plazo, monto)"
   ]
  },
  {
   "cell_type": "code",
   "execution_count": null,
   "metadata": {},
   "outputs": [],
   "source": []
  }
 ],
 "metadata": {
  "kernelspec": {
   "display_name": "Python 3",
   "language": "python",
   "name": "python3"
  },
  "language_info": {
   "codemirror_mode": {
    "name": "ipython",
    "version": 3
   },
   "file_extension": ".py",
   "mimetype": "text/x-python",
   "name": "python",
   "nbconvert_exporter": "python",
   "pygments_lexer": "ipython3",
   "version": "3.9.6"
  }
 },
 "nbformat": 4,
 "nbformat_minor": 2
}
